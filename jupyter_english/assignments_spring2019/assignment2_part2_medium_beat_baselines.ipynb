{
 "cells": [
  {
   "cell_type": "markdown",
   "metadata": {},
   "source": [
    "<center>\n",
    "<img src=\"../../img/ods_stickers.jpg\" />\n",
    "    \n",
    "## [mlcourse.ai](https://mlcourse.ai) – Open Machine Learning Course \n",
    "Author: [Yury Kashnitskiy](https://yorko.github.io) (@yorko). Edited by Sergey Kolchenko (@KolchenkoSergey). This material is subject to the terms and conditions of the [Creative Commons CC BY-NC-SA 4.0](https://creativecommons.org/licenses/by-nc-sa/4.0/) license. Free use is permitted for any non-commercial purpose."
   ]
  },
  {
   "cell_type": "markdown",
   "metadata": {},
   "source": [
    "# <center> Assignment #2. Spring 2019\n",
    "## <center>  Competition 2. Predicting Medium articles popularity with Ridge Regression <br>(beating baselines in the \"Medium\" competition)\n",
    "    \n",
    "<img src='../../img/medium_claps.jpg' width=40% />\n",
    "\n",
    "\n",
    "In this [competition](https://www.kaggle.com/c/how-good-is-your-medium-article) we are predicting Medium article popularity based on its features like content, title, author, tags, reading time etc. \n",
    "\n",
    "Prior to working on the assignment, you'd better check out the corresponding course material:\n",
    " 1. [Classification, Decision Trees and k Nearest Neighbors](https://nbviewer.jupyter.org/github/Yorko/mlcourse_open/blob/master/jupyter_english/topic03_decision_trees_kNN/topic3_decision_trees_kNN.ipynb?flush_cache=true), the same as an interactive web-based [Kaggle Kernel](https://www.kaggle.com/kashnitsky/topic-3-decision-trees-and-knn) (basics of machine learning are covered here)\n",
    " 2. Linear classification and regression in 5 parts: \n",
    "    - [ordinary least squares](https://www.kaggle.com/kashnitsky/topic-4-linear-models-part-1-ols)\n",
    "    - [linear classification](https://www.kaggle.com/kashnitsky/topic-4-linear-models-part-2-classification)\n",
    "    - [regularization](https://www.kaggle.com/kashnitsky/topic-4-linear-models-part-3-regularization)\n",
    "    - [logistic regression: pros and cons](https://www.kaggle.com/kashnitsky/topic-4-linear-models-part-4-more-of-logit)\n",
    "    - [validation](https://www.kaggle.com/kashnitsky/topic-4-linear-models-part-5-validation)\n",
    " 3. You can also practice with demo assignments, which are simpler and already shared with solutions: \n",
    "    - \" Sarcasm detection with logistic regression\": [assignment](https://www.kaggle.com/kashnitsky/a4-demo-sarcasm-detection-with-logit) + [solution](https://www.kaggle.com/kashnitsky/a4-demo-sarcasm-detection-with-logit-solution)\n",
    "    - \"Linear regression as optimization\": [assignment](https://www.kaggle.com/kashnitsky/a4-demo-linear-regression-as-optimization/edit) (solution cannot be officially shared)\n",
    "    - \"Exploring OLS, Lasso and Random Forest in a regression task\": [assignment](https://www.kaggle.com/kashnitsky/a6-demo-linear-models-and-rf-for-regression) + [solution](https://www.kaggle.com/kashnitsky/a6-demo-regression-solution)\n",
    " 4. Baseline with Ridge regression and \"bag of words\" for article content, [Kernel](https://www.kaggle.com/kashnitsky/ridge-countvectorizer-baseline)\n",
    " 5. Other [Kernels](https://www.kaggle.com/c/how-good-is-your-medium-article/kernels?sortBy=voteCount&group=everyone&pageSize=20&competitionId=8673) in this competition. You can share yours as well, but not high-performing ones (Public LB MAE shall be > 1.5). Please don't spoil the competitive spirit.  \n",
    " 6. If that's still not enough, watch two videos (Linear regression and regularization) from here [mlcourse.ai/video](https://mlcourse.ai/video), the second one on LTV prediction is smth that you won't typically find in a MOOC - real problem, real metrics, real data.\n",
    "\n",
    "**Your task:**\n",
    " 1. \"Freeride\". Come up with good features to beat the baselines \"A2 baseline (10 credits)\" and \"A2 strong baseline (20 credits)\". As names suggest, you'll get 10 more credits for beating the first one, and 10 more (20 in total) for beating the second one. You need to name your [team](https://www.kaggle.com/c/catch-me-if-you-can-intruder-detection-through-webpage-session-tracking2/team) (out of 1 person) in full accordance with the [course rating](https://docs.google.com/spreadsheets/d/1LAy1eK8vIONzIWgcCEaVmhKPSj579zK5lrECf_tQT60/edit?usp=sharing) (for newcomers: you need to name your team with your real full name). You can think of it as a part of the assignment.\n",
    " 2. If you've beaten \"A2 baseline (10 credits)\" or performed better, you need to upload your solution as described in [course roadmap](https://mlcourse.ai/roadmap) (\"Kaggle Inclass Competition Medium\"). For all baselines that you see on Public Leaderboard, it's OK to beat them on Public LB as well. But 10 winners will be defined according to the private LB, which will be revealed by @yorko on March 11. \n",
    " \n",
    " ### <center> Deadline for A2: 2019 March 10, 20:59 GMT (London time)\n",
    " \n",
    "### How to get help\n",
    "In [ODS Slack](https://opendatascience.slack.com) (if you still don't have access, fill in the [form](https://docs.google.com/forms/d/1BMqcUc-hIQXa0HB_Q2Oa8vWBtGHXk8a6xo5gPnMKYKA/edit) mentioned on the mlcourse.ai main page), we have a channel **#mlcourse_ai_news** with announcements from the course team.\n",
    "You can discuss the course content freely in the **#mlcourse_ai** channel (we still have a huge Russian-speaking group, they have a separate channel **#mlcourse_ai_rus**).\n",
    "\n",
    "Please stick this special threads for your questions:\n",
    " - [#a2_medium](https://opendatascience.slack.com/archives/C91N8TL83/p1549882568052400) \n",
    " \n",
    "Help each other without sharing actual code. Our TA Artem @datamove is there to help (only in the mentioned thread, do not write to him directly)."
   ]
  },
  {
   "cell_type": "code",
   "execution_count": 1,
   "metadata": {},
   "outputs": [],
   "source": [
    "import os\n",
    "import json\n",
    "from tqdm import tqdm_notebook\n",
    "import numpy as np\n",
    "import pandas as pd\n",
    "from sklearn.feature_extraction.text import TfidfVectorizer\n",
    "from sklearn.metrics import mean_absolute_error\n",
    "from scipy.sparse import csr_matrix, hstack\n",
    "from sklearn.linear_model import Ridge"
   ]
  },
  {
   "cell_type": "markdown",
   "metadata": {},
   "source": [
    "The following code will help to throw away all HTML tags from an article content."
   ]
  },
  {
   "cell_type": "code",
   "execution_count": 2,
   "metadata": {},
   "outputs": [],
   "source": [
    "from html.parser import HTMLParser\n",
    "\n",
    "class MLStripper(HTMLParser):\n",
    "    def __init__(self):\n",
    "        self.reset()\n",
    "        self.strict = False\n",
    "        self.convert_charrefs= True\n",
    "        self.fed = []\n",
    "    def handle_data(self, d):\n",
    "        self.fed.append(d)\n",
    "    def get_data(self):\n",
    "        return ''.join(self.fed)\n",
    "\n",
    "def strip_tags(html):\n",
    "    s = MLStripper()\n",
    "    s.feed(html)\n",
    "    return s.get_data()"
   ]
  },
  {
   "cell_type": "markdown",
   "metadata": {},
   "source": [
    "Supplementary function to read a JSON line without crashing on escape characters."
   ]
  },
  {
   "cell_type": "code",
   "execution_count": 3,
   "metadata": {},
   "outputs": [],
   "source": [
    "def read_json_line(line=None):\n",
    "    result = None\n",
    "    try:        \n",
    "        result = json.loads(line)\n",
    "    except Exception as e:      \n",
    "        # Find the offending character index:\n",
    "        idx_to_replace = int(str(e).split(' ')[-1].replace(')',''))      \n",
    "        # Remove the offending character:\n",
    "        new_line = list(line)\n",
    "        new_line[idx_to_replace] = ' '\n",
    "        new_line = ''.join(new_line)     \n",
    "        return read_json_line(line=new_line)\n",
    "    return result"
   ]
  },
  {
   "cell_type": "markdown",
   "metadata": {},
   "source": [
    "#### Fields available in the json_data:\n",
    "\n",
    "```js\n",
    "['_id', '_timestamp', '_spider', 'url', 'domain', 'published',\n",
    " 'title', 'content', 'author', 'image_url', 'tags', 'link_tags', 'meta_tags']\n",
    "```"
   ]
  },
  {
   "cell_type": "markdown",
   "metadata": {},
   "source": [
    "Extract features `content`, `published`, `title` and `author`, write them to separate files for train and test sets."
   ]
  },
  {
   "cell_type": "code",
   "execution_count": 135,
   "metadata": {},
   "outputs": [],
   "source": [
    "def extract_features_and_write(path_to_data,\n",
    "                               inp_filename, is_train=True):\n",
    "    \n",
    "    features = ['content', 'published', 'title', 'author']\n",
    "    prefix = 'train' if is_train else 'test'\n",
    "    feature_files = [open(os.path.join(path_to_data,\n",
    "                                       '{}_{}.txt'.format(prefix, feat)),\n",
    "                          'w', encoding='utf-8')\n",
    "                     for feat in features]\n",
    "    \n",
    "    with open(os.path.join(path_to_data, inp_filename), encoding='utf-8') as inp_json_file:\n",
    "        for line in tqdm_notebook(inp_json_file):\n",
    "            json_data = read_json_line(line)\n",
    "            \n",
    "            # You code here\n",
    "            \n",
    "            feature_files[0].write(strip_tags(json_data['content']).replace('\\n', '') + '\\n')\n",
    "            #feature_files[0].write(json_data['content'].replace('\\n', '') + '\\n')\n",
    "            \n",
    "            feature_files[1].write(json_data['published']['$date'] + '\\n')\n",
    "            #print(json_data['published'])\n",
    "            # {'$date': '2015-08-03T07:44:50.331Z'}\n",
    "            \n",
    "            feature_files[2].write(json_data['title'].replace('\\n', '') + '\\n')\n",
    "            \n",
    "\n",
    "            \n",
    "            # print(json_data['author'])\n",
    "            # {'name': None, 'url': 'https://medium.com/@Medium', 'twitter': '@Medium'}\n",
    "            feature_files[3].write(json_data['author']['url'] + '\\n') # TODO get the author from the end of the url?\n",
    "            \n",
    "\n",
    "            #import dateutil.parser as dp\n",
    "            #t = '1984-06-02T19:05:00.000Z'\n",
    "            #parsed_t = dp.parse(t)\n",
    "            #print(parsed_t)\n",
    "            #datetime.datetime(1984, 6, 2, 19, 5, tzinfo=tzutc())"
   ]
  },
  {
   "cell_type": "code",
   "execution_count": 136,
   "metadata": {},
   "outputs": [],
   "source": [
    "PATH_TO_DATA = './assignment-2-part2/data'"
   ]
  },
  {
   "cell_type": "code",
   "execution_count": 137,
   "metadata": {},
   "outputs": [
    {
     "data": {
      "application/vnd.jupyter.widget-view+json": {
       "model_id": "5a4c3fbc0ce84e3e9ede522a9a76546e",
       "version_major": 2,
       "version_minor": 0
      },
      "text/plain": [
       "HBox(children=(IntProgress(value=1, bar_style='info', max=1), HTML(value='')))"
      ]
     },
     "metadata": {},
     "output_type": "display_data"
    }
   ],
   "source": [
    "extract_features_and_write(PATH_TO_DATA, 'train.json', is_train=True)"
   ]
  },
  {
   "cell_type": "code",
   "execution_count": 138,
   "metadata": {},
   "outputs": [
    {
     "name": "stdout",
     "output_type": "stream",
     "text": [
      "   62313 ./assignment-2-part2/data/train_content.txt\r\n"
     ]
    }
   ],
   "source": [
    "!wc -l ./assignment-2-part2/data/train_content.txt"
   ]
  },
  {
   "cell_type": "code",
   "execution_count": 139,
   "metadata": {},
   "outputs": [
    {
     "name": "stdout",
     "output_type": "stream",
     "text": [
      "   62313 ./assignment-2-part2/data/train_published.txt\r\n"
     ]
    }
   ],
   "source": [
    "!wc -l ./assignment-2-part2/data/train_published.txt"
   ]
  },
  {
   "cell_type": "code",
   "execution_count": 140,
   "metadata": {},
   "outputs": [
    {
     "name": "stdout",
     "output_type": "stream",
     "text": [
      "   62313 ./assignment-2-part2/data/train_title.txt\r\n"
     ]
    }
   ],
   "source": [
    "!wc -l ./assignment-2-part2/data/train_title.txt"
   ]
  },
  {
   "cell_type": "code",
   "execution_count": 141,
   "metadata": {},
   "outputs": [
    {
     "name": "stdout",
     "output_type": "stream",
     "text": [
      "   62313 ./assignment-2-part2/data/train_author.txt\r\n"
     ]
    }
   ],
   "source": [
    "!wc -l ./assignment-2-part2/data/train_author.txt"
   ]
  },
  {
   "cell_type": "code",
   "execution_count": null,
   "metadata": {},
   "outputs": [],
   "source": []
  },
  {
   "cell_type": "code",
   "execution_count": 142,
   "metadata": {},
   "outputs": [
    {
     "name": "stdout",
     "output_type": "stream",
     "text": [
      "MediumEveryone’s stories and ideasAug 13, 2012Medium Terms of ServiceEffective: March 7, 2016These Terms of Service (“Terms”) are a contract between you and A Medium Corporation. They govern your use of Medium’s sites, services, mobile apps, products, and content (“Services”).By using Medium, you agree to these Terms. If you don’t agree to any of the Terms, you can’t use Medium.We can change these Terms at any time. We keep a historical record of all changes to our Terms on GitHub. If a change is material, we’ll let you know before they take effect. By using Medium on or after that effective date, you agree to the new Terms. If you don’t agree to them, you should delete your account before they take effect, otherwise your use of the site and content will be subject to the new Terms.Content rights & responsibilitiesYou own the rights to the content you create and post on Medium.By posting content to Medium, you give us a nonexclusive license to publish it on Medium Services, including anything reasonably related to publishing it (like storing, displaying, reformatting, and distributing it). In consideration for Medium granting you access to and use of the Services, you agree that Medium may enable advertising on the Services, including in connection with the display of your content or other information. We may also use your content to promote Medium, including its products and content. We will never sell your content to third parties without your explicit permission.You’re responsible for the content you post. This means you assume all risks related to it, including someone else’s reliance on its accuracy, or claims relating to intellectual property or other legal rights.You’re welcome to post content on Medium that you’ve published elsewhere, as long as you have the rights you need to do so. By posting content to Medium, you represent that doing so doesn’t conflict with any other agreement you’ve made.By posting content you didn’t create to Medium, you are representing that you have the right to do so. For example, you are posting a work that’s in the public domain, used under license (including a free license, such as Creative Commons), or a fair use.We can remove any content you post for any reason.You can delete any of your posts, or your account, anytime. Processing the deletion may take a little time, but we’ll do it as quickly as possible. We may keep backup copies of your deleted post or account on our servers for up to 14 days after you delete it.Our content and servicesWe reserve all rights in Medium’s look and feel. Some parts of Medium are licensed under third-party open source licenses. We also make some of our own code available under open source licenses. As for other parts of Medium, you may not copy or adapt any portion of our code or visual design elements (including logos) without express written permission from Medium unless otherwise permitted by law.You may not do, or try to do, the following: (1) access or tamper with non-public areas of the Services, our computer systems, or the systems of our technical providers; (2) access or search the Services by any means other than the currently available, published interfaces (e.g., APIs) that we provide; (3) forge any TCP/IP packet header or any part of the header information in any email or posting, or in any way use the Services to send altered, deceptive, or false source-identifying information; or (4) interfere with, or disrupt, the access of any user, host, or network, including sending a virus, overloading, flooding, spamming, mail-bombing the Services, or by scripting the creation of content or accounts in such a manner as to interfere with or create an undue burden on the Services.Crawling the Services is allowed if done in accordance with the provisions of our robots.txt file, but scraping the Services is prohibited.We may change, terminate, or restrict access to any aspect of the service, at any time, without notice.No childrenMedium is only for people 13 years old and over. By using Medium, you affirm that you are over 13. If we learn someone under 13 is using Medium, we’ll terminate their account.SecurityIf you find a security vulnerability on Medium, tell us. We have a bug bounty disclosure program.Incorporated rules and policiesBy using the Services, you agree to let Medium collect and use information as detailed in our Privacy Policy. If you’re outside the United States, you consent to letting Medium transfer, store, and process your information (including your personal information and content) in and out of the United States.To enable a functioning community, we have Rules. To ensure usernames are distributed and used fairly, we have a Username Policy. Under our DMCA Policy, we’ll remove material after receiving a valid takedown notice. Under our Trademark Policy, we’ll investigate any use of another’s trademark and respond appropriately.By using Medium, you agree to follow these Rules and Policies. If you don’t, we may remove content, or suspend or delete your account.MiscellaneousDisclaimer of warranty. Medium provides the Services to you as is. You use them at your own risk and discretion. That means they don’t come with any warranty. None express, none implied. No implied warranty of merchantability, fitness for a particular purpose, availability, security, title or non-infringement.Limitation of Liability. Medium won’t be liable to you for any damages that arise from your using the Services. This includes if the Services are hacked or unavailable. This includes all types of damages (indirect, incidental, consequential, special or exemplary). And it includes all kinds of legal claims, such as breach of contract, breach of warranty, tort, or any other loss.No waiver. If Medium doesn’t exercise a particular right under these Terms, that doesn’t waive it.Severability. If any provision of these terms is found invalid by a court of competent jurisdiction, you agree that the court should try to give effect to the parties’ intentions as reflected in the provision and that other provisions of the Terms will remain in full effect.Choice of law and jurisdiction. These Terms are governed by California law, without reference to its conflict of laws provisions. You agree that any suit arising from the Services must take place in a court located in San Francisco, California.Entire agreement. These Terms (including any document incorporated by reference into them) are the whole agreement between Medium and you concerning the Services.Government use. If you’re ​using ​Medium for the U.S. Government, this Amendment to ​Medium’s Terms of Service ​applies to you​.Questions? Let us know at legal@medium.com.Terms And ConditionsTermsMediumOne clap, two clap, three clap, forty?By clapping more or less, you can signal to us which stories really stand out.MediumMedium member since Aug 2017Everyone’s stories and ideasMedium PolicyThe Fine Print\r\n",
      "MediumEveryone’s stories and ideasAug 2, 2015 UnlistedAmendment to Medium Terms of Service Applicable to U.S. Government UsersThis agreement (“Amendment”) is an amendment to Medium’s Terms. It is between Medium and the U.S. Government and applies to the use of Medium Services by the Government.The reason for this Amendment is that, as a U.S. Government entity (“you“ or “Agency”), you must follow federal laws and regulations when entering into a binding agreement such as Medium’s Terms. The subjects of these rules are broad and include ethics, privacy and security, accessibility, federal records, limitations on indemnification, fiscal law constraints, advertising and endorsements, freedom of information, and the details of how disputes are resolved.Medium and you (formally the “Parties”) have decided that modifications of Medium’s standard Terms, available at https://medium.com/policy/medium-terms-of-service-9db0094a1e0f, are appropriate to allow for federal-compatible usage of Medium Services. The changes are designed to respect your legal status, your public mission, and other unique circumstances. And so the Terms are modified by this Amendment, as follows.A. Government entity: We want to clear up what “you” means within the Terms. For Government users, “you” means the Agency itself and will not apply to nor bind the individuals who use Medium Services on the Agency’s behalf. Instead, Medium will look solely to the Agency to enforce any violation or breach of the Terms.B. Public purpose and usage: The Agency agrees to use Medium Services solely to fulfill the Agency’s public purpose. Medium acknowledges you may use Medium Services overseas and you may open and maintain more than one account. If Medium wants to promote your content with partner companies or services for broader broadcast, distribution, or publication, Medium will first contact you and make sure you understand and agree to Medium’s plans.C. Advertisements: Medium is allowed to serve what are commonly known as “house ads” on your pages in a non-intrusive manner. Medium does not currently display third-party advertisements, but this is subject to change. If you submit a written request to Medium to block the display of any commercial advertisements, solicitations, or links on the Agency’s board, Medium may so agree provided that it has decided to make such blocking technology generally available for all users. Agency’s sole remedy for Medium’s failure to implement such blocking technology shall be for Agency to terminate its Medium account.D. Indemnification, Liability, Statute of Limitations, Governing law and Forum: The title of this section looks complicated yet the proposition is simple. Medium agrees that any provisions in the Terms related to legal subjects — such as indemnification, liability, damages, dispute forum, filing deadlines, defense of lawsuits, collection expenses, attorneys fees, and settlement — will apply to you only to the extent consistent with federal law. We expect everything to go smoothly, but Medium and you agree to proceed on the understanding that the Terms will be governed by and interpreted and enforced in accordance with applicable federal laws of the United States of America, and jurisdiction shall be in federal forums. To the extent permitted under federal law, the laws of the State of California will apply.E. Limitation of liability: The parties disclaim all warranties, express or implied, including any warranty of merchantability or fitness for a particular purpose. To the extent permitted under federal law, neither party will be liable to the other for indirect, consequential, special, punitive, or exemplary damages or penalties arising from or related to this agreement, and neither party’s liability for any cause of action arising from or relating to this agreement will exceed $50,000, except that we agree that nothing in the limitation of liability clause or elsewhere in the Terms in any way grants Medium a waiver from, release of, or limitation of liability pertaining to, any past, current or future violation of federal law.F. Access and use: Medium understands that the Agency’s use of Medium Services may energize significant citizen engagement and otherwise become important to your public mission. Medium agrees, before terminating your service, refusing or removing your content, or closing your account, to first notify you of Medium’s intent and to give you a reasonable opportunity to cure any identified breach or failure, or otherwise resolve the matter.G. No Endorsement: Agency’s trademarks, trade names, domain names, designs, logos and seals (“Agency Marks”), Agency’s name, and the fact that you have a presence on Medium Services, shall not be used to imply an endorsement, sponsorship or preference by Agency or the Federal Government of Medium Services. However, the foregoing shall not prohibit Medium from using your name or Agency Marks to fulfill Medium’s obligations under this agreement. Medium may also include the Agency’s name and Agency Marks in partner lists and presentations solely for the purpose of promoting the availability of Agency’s content on the Medium platform and only so long as the Agency name and Agency Marks are not displayed in a more prominent fashion than those of any other third party name or Mark. If you ever have concerns about or objections to our use of any Agency Mark, you may contact us (using the “Contact Us” feature in our developer portal) and we will discuss your concerns in good faith. You always have the ability to terminate your Medium account and, following any such withdrawal, we will stop using the applicable Agency Marks.H. No business relationship created: You and Medium are independent entities and nothing in the Terms as modified by this Amendment creates a partnership, joint venture, agency, or employer/employee relationship.I. No cost agreement: Nothing in the Terms as modified by this Amendment obligates you to expend appropriations or incur financial obligations. The Parties acknowledge and agree that none of the obligations arising from the Terms as modified by this Amendment are contingent upon the payment of fees by one party to the other.J. Paid Services and Agency responsibilities under paid usage plans: The Parties agree this Amendment applies to the Agency’s usage of both free and paid Services that Medium may offer. The Parties understand that fee-based products and services are categorically different than free products and services, and are subject to federal procurement rules and processes. Before the Agency decides to enter into a premium or enterprise subscription or any other fee-based service that Medium or alternative providers may offer now or in the future, the Agency agrees to determine if it has a need for those additional services for a fee, to consider the service’s value in comparison with comparable services available elsewhere, to determine that Agency funds are available for payment, to properly use the Government Purchase Card if it is used as the payment method, to review any then-applicable Terms for conformance to federal procurement law and in all other respects follow federal acquisition rules when making the acquisition.K. Assignment: Neither party may assign its obligations under the Terms as modified by this Amendment to any third party without prior written consent of the other. However, if you are using Medium’s free services only, Medium or its subsidiaries may, without your consent, assign the Terms as modified by this Amendment to an affiliate, successor or acquirer, as the case may be, in connection with a merger, acquisition, corporate reorganization or consolidation, or sale of all or substantially all of Medium’s assets.L. Termination rights: The Agency may close its account and terminate this agreement at any time. Medium may close the Agency’s account and terminate this agreement on 30 days written notice.M. Provision of data: In case of termination of service, within 30 days of such termination, upon request, Medium will provide you with all of your user-generated content that is publicly visible on the site. Data will be provided in a commonly used file or database format as Medium deems appropriate. Medium will not provide data if doing so would violate its privacy policy https://medium.com/policy/medium-privacy-policy-f03bf92035c9.N. Security: Security is important to Medium; please refer to our Terms of Service for information about our security practices. Recognizing the changing nature of the Web, Medium will continuously work with users to ensure that its site and Services meet users’ requirements for the security of systems and data. Medium agrees to discuss implementing additional security controls as deemed necessary by the Agency to conform to the Federal Information Security Management Act (FISMA), 44 U.S.C. 3541 et seq.O. Federal Records: The Agency acknowledges that use of Medium Services may require management of Federal records. If Medium holds Federal records, the Agency and Medium must discuss the proper care of Federal records in accordance with applicable records management laws and regulations, including the Federal Records Act (44 U.S.C. chs. 21, 29, 31, 33) and regulations of the National Archives and Records Administration (NARA; at 36 CFR Chapter XII Subchapter B). Managing the records includes, but is not limited to, secure storage, retrievability, and proper disposition of all Federal records including transfer of permanently valuable records to NARA in a format and manner acceptable to NARA at the time of transfer. The Agency is the party responsible for ensuring that its use of Medium is compliant with federal records management laws and regulations.P. Precedence; Further Amendments: If there is any conflict between this Amendment and the Terms, or between this Amendment and other terms, rules or policies on the Medium site or related to its Services, this Amendment shall prevail. Any further amendment must be agreed to in writing by both Parties. Current and future federal law, regulation and policy may affect the Agency’s use of Medium Services in ways not yet addressed by us. Among the topics the Agency may need to discuss with Medium, and which may lead to a mutual agreement to update this Amendment, are privacy and accessibility.Q. Posting of Amendment: This Amendment shall be posted with Medium’s online Terms either by incorporation of its text or via an integral link. Unlisted Public domain. One clap, two clap, three clap, forty?By clapping more or less, you can signal to us which stories really stand out.MediumMedium member since Aug 2017Everyone’s stories and ideasMedium PolicyThe Fine Print\r\n",
      "Yun-Chen Chien（簡韻真）Nobody in @g0v.tw, PM in sense.tw to build online deliberation tools. Caring #civictech #opengov #startup. Now researching on Internet and open democracy.Feb 5, 2017走入山與海之間：閩東大刀會和兩岸走私閩東海濱是個山接海的地方，沿海是小小的灣澳錯落，漁船或遠或近地停泊。當我們沿著海邊走時，羅士傑老師總會興奮地說：「你看這地方，多適合躲人，就一副海盜窩的樣子！」這是一句激動的讚美，因為我們來此的目的是探訪民國時期的民間宗教武裝結社還有兩岸走私貿易。閩東沿岸的星星就是我們這次拜訪的地方。翻開閩東各地縣誌，從清末開始就充滿著各種倭寇進犯、禁烟令（禁止種植罌粟）、反洋教運動、取締花會捐（賭博）、緝鹽、民眾運動、走私。其中兩件事特別吸引了我們的注意。一是民國 32 年（1943 年）的大刀會暴動，聚集千餘人攻陷穆陽，國民黨政府緊急鎮壓，在民國 33 年處決首犯數餘人。大刀會是由地方仕紳組織成立的地方宗教團體「同善社」所延伸出來的武裝組織，目的是「防匪保家」。例如福安的同善社在民國 10 年創立於文昌祠樓上，民國 28 年反對當時縣長而暴動，有卸任知縣參與，被指控與「海匪」勾結，被指控以法師號召民眾、拜畸形兒做皇帝。後各地組織有與地方組織紅帶會結盟或對立，被國民黨肅清或接受國民黨資助對抗共產黨。這些所謂的「反動會道門」組織，一直在民間繼續傳佈，直到 1950-1960 年中國共產黨大力取締殲滅瑤池道、先天道、老母道、龍華道等「反動會道門」組織，才逐漸銷聲匿跡。二是綿延不斷的兩岸走私貿易。1950's - 1960's 兩岸仍不斷互相砲擊、飛偵測機、心戰喊話，甚至美軍和國民黨有空投昆蟲和細菌，縣誌上則記載陸續逮捕國民黨特務還有與海上保安隊對抗的紀錄。但有趣的是，在兩岸正式交流之前，1979 年三沙台灣漁民接待站就竣工了，1984 年後開始破獲走私，像是 1991 年霞浦破獲走私香菸三百多萬元，其他熱門走私品包括手錶、漁穫等。我們循著這兩條線索踏入閩東，展開歷史田野。身為歷史學家，老師有興趣的題目一直是「民間如何應對現代國家」，尤其以宗教作為地方組織的力量切入。如果單從檔案字面上看，我們很容易就對國家的敘事買單，但老師將民間視作有能動性的各種群體，有自己的邏輯，用自己的方法在跟所謂的「國家」互動。大概就是所謂的上有政策下有對策。這次文獻所引出的幾個有趣問題是，同善社、大刀會這樣的宗教紐帶，如何建立起地方武裝力量，他們又是如何與國民黨/中華民國、共產黨/中華人民共和國互動？同善社、大刀會這樣的宗教組織，也不若之前許多文獻中以廟宇為中心的討論地方的方法，而是以佛堂、法師為中心的組織。這樣的宗教組織，如何面對現代性的國家？尤其是當進入冷戰格局的兩岸對峙，對於地方脈絡來說，共產黨、國民黨、合法、非法的認知，還有國家對於他們來說又是什麼呢？宗教與地方三沙冬澳媽祖宮前老師上課總愛開玩笑說，在華南做宗教地方研究就是進村找廟、進廟找碑。這句話一半對。我們的確沿著舊時的海岸線，探訪了幾間天后宮、文武靈王廟，往外眺望曾經是海的地方。也在前岐的天后宮撒麵粉抄錄了奉憲示禁碑，從前岐這個明礬出口的河口，一路追到靠近溫州的明礬主要產地礬山鎮。（這是另外一個有意思的明礬貿易與「階級革命」的故事了，老師說應該可以寫一篇碩論了）但就像在字裡行間看出微言大義，我們在找官方敘事之外的民間故事還有廟宇之外的地方宗教運作方式。根據當時的調查文獻上，所謂的「反動會道門」有各式各樣職業，許多是城市小資產階級，不乏外地人，設壇於民宅中，由法師定時帶領會眾誦經行法事。老師解釋說宗教不只是逢年過節祭拜而已，需要形成團體互相支持。但在我看來這樣的組織是平行於媽祖信仰的、文武靈王、華光大帝的一種信仰方式，不然直接以媽祖做為號召即可，何必再搞出一個老母娘/瑤池金母在拜呢？地方上的宗教組織，可能是有好幾個宗教團體相互拮抗，像是如今的一貫道與媽祖信仰平行吸納群眾信仰。反動會道門在 1960’s 後基本上銷聲匿跡，這種祕密宗教組織也難以短時間與當地人聊天取得資訊。不過我們在三沙找到天地壇，裡面祭拜當年的壇主與不知名神明。也在天后宮裡發現兼拜奶娘。或是記述毛一、毛二法師行至羅源一帶弘法治病。在連江一帶則沿路多佛堂，有師父定時帶領誦經念課。其中一個佛堂裡的顧堂大嬸跟我們表示，這間佛堂本在偏僻山中，由「菜友」集資買下現在這塊地，興建佛堂，觀看廟牆上的捐獻紀錄多見女性，呼應文獻上鄉村中老年女性藉由宗教活動脫離家庭責任。拜觀音需脫鞋，旁邊則是一個食堂，有桌椅和廚房供集會之用。佛堂也更進一步與安養系統整合，我們進到一個直接名為「安養念佛堂」的佛堂，裡面有三十多位年長居士居住，兩三位師父，富麗堂皇。不過這樣的宗教組織聯繫，有沒有在兩岸之間牽起貿易網絡呢？這點還不是很清楚。或是宗教武裝組織如何與現代化互動？在文獻看起來，大刀會這批人先是被國民黨認為是迷信的地方組織需要清肅，後抗日又有合作，又與共產黨不合，國民黨在 1949 年撤退後還提供機關槍供其對抗共產黨。宗教在地方的形式會經過許多轉化與整合，例如這次拜訪的許多廟宇是在西元兩千年後才修建，可視為配合地方復興政策，或是那時鄉村真的開始富起來了，或是配合統戰政策，例如一間天后宮牆上貼著胡錦濤 2006 年 1 月時的談話：「媽祖信仰深深的紮根在台灣民眾的精神生活中，我們要運用好這一豐富資源，在促進兩岸交流中更好地發揮作用。」許多廟宇也與地方文化禮堂結合，一樓是挑高的禮堂活動空間，二樓則是廟。最絕的可能是我們走訪的一間鄭氏宗祠，上面掛了三個匾額：文化禮堂、鄭成功紀念館、鄭氏宗祠。看起來顯然是為了拿補助，一口氣讓整個場館多功能，一樓有球桌和很大的鄭成功塑像，二樓則是宗祠。這可視為地方對於政策的一種應對，以政策要求的外殼包裝地方需求。從大陸面對海洋：敵人還是朋友？「祖國大陸距離馬祖最近的地方」，大大的標語掛在連江縣黃岐鎮的入口。的確很近，1950 年馬祖駐軍砲擊黃岐鎮，三十多座民房被毀。如今在黃岐小三通的客運碼頭，寫著「連江縣同胞熱烈歡迎台灣同胞拜訪祖國大陸」，一天各兩班船班往返馬祖，航程不到三十分鐘。港口旁是頂著斗笠在補網的漁民，直接把網鋪開在馬路上，有羊在旁邊悠閒的晃蕩，不遠處則是船員介紹所。這裡講的方言屬福州系統，但在其他許多靠海的小漁村裡，雖靠近福州，我們竟可以以閩南語通行。老師一個想像是閩南語人群是海上的人，因此靠海的港口可能會有閩南語。閩東可能是最後一個蜑民上岸的地方。水上仍有人家我們跑了五天的沿海漁村，其實面貌各異。除了傳統的小漁村，有的地方建造海堤把河口內海做為農地，有的地方填海造建鋼鐵廠、核電廠或是一座每棟建築都二十層樓高且長的一模一樣的新城，也有些地方開一般的工廠，村裡的大街在辦年貨擠的水泄不通。也有些地方布滿的解放軍的軍事基地，商業化大概就無緣了。這也不奇怪，閩東歷來就有許多海防的衛所，我們拜訪了定海古城和浦城。衛所是明代的軍事制度，從外地派駐軍隊，駐紮在高牆圍起的城裡，佔據海防要地，依山傍海，山後有屯田。不過如今駐紮於此的解放軍，許多都是劃在南京軍區下的南方人，很多是福建人。我們跟身著藍色迷彩服的解放軍一同搭船前往三都澳，光緒二十三年正式開放作為對外通商口岸，設置海關。街上一片蕭索，我們氣喘吁吁爬上了一座山坡，俯瞰整個三都澳的港灣，山頭上座落著教堂還有貌似海關/洋行的歐式建築。我們跟一個在解放軍部隊待了十二年的大哥聊天，他說：「我恨死陳水扁了。我那時請假回家結婚，結果結婚前一天接到士官長的電話要我回部隊『戰備』，就只因為陳水扁要參選，還是長官給我方便，給我說成是去遼寧，趕回部隊要三天，我才結到婚的。但之後每次跟老婆吵架，她就會說：『我從結婚那天就看你很不順眼了！』」我啃著繼光餅（對，就是傳說戚繼光打倭寇時做的餅），聽老師跟大哥聊抓逃兵聊得不亦樂乎，原來兩岸抓逃兵的 SOP 和規定是一樣的啊！大哥說兩岸和平該有多好，大家都是可以交朋友嘛。說到走私，當地人說船體通體漆黑，沒有船舷，開得飛快，海防艦艇追不上。其中買賣油是筆好生意，台灣漁民會把油加滿開到公海上，大陸這頭的漁民再去取油，兩方心照不宣。沿途也有看到佔地甚廣的台灣漁民招待所。這些招待所建在兩岸正式通航之前。這些「漁民」在此之前可能被視作「特務」，從請吃子彈到請喝茶互相作為心戰宣傳管道。其實走私沒我們想像的那麼遠。從廈門小三通回台灣時，當地旅行社的櫃檯一直要我們「帶包香菇」，一個人給你一百元人民幣。當時直接拒絕了，很怕不是真的香菇，但上網查了之後發現好像是真的香菇，只是台灣跟中國的香菇價差太大了。雜記文章最後還是沒回答文章一開始針對宗教與走私所提出的大問題，只是用這樣的角度看民間社會與現代國家的互動會很有趣，就請大家期待老師的論文吧！這趟走下來，除了推論歷史，我不斷提醒自己的是要去看見那些互聯網之外的地方，尤其我們走在那些百度地圖上沒有的小路上時。羅士傑老師一向關注人是怎麼活著的，我則在思考當我們說著公民科技的時候，這樣的科技對於農村的人生活影響能有多少，有科技就能翻轉政治權力嗎？還是需整合舊有的民間凝聚力量？下一代的農村年輕人還會依附於宗教上嗎？他們信仰的會是什麼？老師回台灣的路上一直在講台灣人年輕人 — 尤其是要台獨的人 — 對中國不夠瞭解，不理解中國年輕人的話題也不瞭解農村。福建鄉下地方過年熱鬧的緊，鎮上那條大街整排的樹都掛上了紅燈籠，採買年貨的人穿梭在狂按喇吧的車陣中，幾個小孩蹦跳而過，老師轉身問我：「你覺得十年後這些小孩會在做什麼？」附錄感謝臺大歷史系羅士傑教授，以及台大歷史所學姐鄭凌霄，學姐正好是福州羅源人，一路上張羅田野行程還有方言翻譯。出田野有在地人真的很重要啊！福安縣誌 p697福安縣誌 p698福安縣誌 p733,734回台灣的路上，跟老師聊大學教育，老師說：「大學是年輕人最有餘裕思考人文問題的人，我們卻要急著將他們往職場推。」對我而言是以正向心態擁抱自己的餘裕，且越發覺得自己念的書太少，要多讀書。Some rights reserved 田野歷史閩東大刀會走私One clap, two clap, three clap, forty?By clapping more or less, you can signal to us which stories really stand out.Yun-Chen Chien（簡韻真）Nobody in @g0v.tw, PM in sense.tw to build online deliberation tools. Caring #civictech #opengov #startup. Now researching on Internet and open democracy.\r\n",
      "Vaibhav KhulbeAndroid App Developer | I write forum posts on The Verge | ACM MemberMay 6, 2017How fast can a camera get?When light practically stood still…Answer this question yourself. What’s the highest rated camera in terms of its frame capturing speed? You will basically search for the term high-speed camera. Then you will see a list of cameras that shows you frame capture with increment of 50 frames in each step. 100 fps, 150 fps, 200 fps, or even 250 fps. Now, hold a plate and observe the following sentence:The speed needed to render your plate invisible to the camera is 119 million miles per hour.The whole thing has already been explained here in Phys.org’s 2014 blog. But why I’m writing all this?1,000,000,000,000 frames please!The camera that can capture 1 trillion frames a second - fast enough for slow-motion video of light…The first stunning images of moving bullets appeared around 50 years ago - now a team of snap happy scientists have…www.dailymail.co.ukThe above headline from Daily Mail says 1 trillion frames, yes a trillion which is quite suitable to capture the speed of the fastest thing that matters. You guessed it right, the light! The brain behind this mind-blowing innovation were scientists from Massachusetts Institute of Technology (MIT). For this to happen, the team used a camera that collected the light beams at a rate of roughly one trillion frames per second. Ramesh Raskar, the Associate Professor of the MIT Media Lab said:We have built a virtual slow motion camera where were can see photons, or light particles, moving through space.Did you heard that? We were able to see the goddamn photons! The 500 nanometer stuff! Well, the actual science (as we know it) behind Sir Ramesh’s camera was a single large lens working alongside an array of 500 sensors. Plus, they replaced the regular camera flash with a titanium sapphire laser so that the pulse of the wave generated lasts less than one trillionth of a second.Then, one of the system developer said:There’s nothing in the universe that looks fast to this camera.And there you go. A researcher from some other part of the globe noted this and planned to go even further. Well, you never know what’s going inside a human brain!Let it be 5 trillionPic credit: Lund UniversityEarlier if a tech blogger or a news reporter would come across a camera with a frame capture rate of 1000 fps then he/she would be like “Forget high-speed cameras capturing 100 images per second, now we have a camera with 1K fps!”. Enough. We are in 2017 and we need something which really changes the perspective.Seems like researchers at Sweden’s Lund Univeristy heard you right! They made a super-duper fast camera with a whooping five trillion frames per second! This very new tech is called FRAME which is short for Frequency Recognition Algorithm for Multiple Exposures. Cool. The idea is to capture several coded images into a single picture.Credit to Elias Kristensson and Andreas Ehn, they filmed how light travels a distance equivalent to the thickness of a paper. And that’s so amazing that I’ve started thinking more about science than about technology. What’s even more interesting is this that in reality it takes a picosecond but on the film that exact process has been slowed down to a trillionth of a time. Nice move.If such a camera will sell sometime in near future then other researchers who literally want to gain better insight into the diverse and unseen events of nature will surely step ahead in buying this marvel. Counter to the MIT’s system developer, Elias Kristensson said:This does not apply to all processes in nature, but quite a few, for example, explosions, plasma flashes, turbulent combustion, brain activity in animals and chemical reactions. We are now able to film such extremely short processes.Talking about its presence in the market, you will be delighted to know that the world’s fastest film camera has backed a German company which has already developed a prototype of the technology and what that means? Give them 2+ years and there you’ll have it. A FRAME in your hand!PhotographyCamerasTechMITScienceOne clap, two clap, three clap, forty?By clapping more or less, you can signal to us which stories really stand out.Vaibhav KhulbeAndroid App Developer | I write forum posts on The Verge | ACM MemberWhat comes to mindStories with a zest of tech\r\n",
      "Vaibhav KhulbeAndroid App Developer | I write forum posts on The Verge | ACM MemberJun 4, 2017A game for the lonely foxEver seen a game while playing?Situation one:“What are the three types of chemical bonds?”“Ionic, metallic, James Bond!😂”“Hahaha, good ol’ chem jokes…I’m pretty sure that third one is covalent”“I don’t know”“I’m gonna put covalent anyway😂”Situation two:“They really sound like footsteps but there is something odd about them…I should look out of the window”“Sure. What if there really is someone there in your garden, looking up at you? 😛”“NOT FUNNY DAVID”“Wow, chill…I’m sure it’s nothing”Situation three:“Why did you buy me that anyway?”“You always forget, don’t you? 😂It’s because your are such a good friend, Mark 😀”At this point you must be wary about my brain’s condition. Are you?That’s perfectly okay. Before I actually begin to write about what’s my brain problem, I want you to answer the following questions:When was the last time you played a mobile game that caught your attention by just looking at its logo?When was the last time you messaged your dearest buddy and he/she replied you with utmost care and importance?When was the last time a mobile game made you really happy?When was the last time when you started a chat in WhatsApp and it had multiple endings?What if life gave you another chance to learn to love again?I’m pretty sure that you got my point of discussion. Did you? Let’s be clear now.Last year, an indie game studio was born in the Philippines. It was named Polychroma. Like every other company they had a motto too. Making games that deliver unique experiences for various game players around the globe. Much to my excitement, the studio’s founder is a 16 year old lead programmer. And this studio’s first and highly successful game is called Seen. Strange?What is so special about it?Seen is currently available only for the Android platform. But that doesn’t mean that users are not playing it everyday. It’s not just another write and go game. It’s much more. It has already created a new platform for games. It changed the idea of how we play a game and yes, interact with it.To begin with, you play (by default) by the name of Mark Blythe. The game assumes that you are a student who just fell in love with the new fellow student, Nicole Tyler. Now it is up to you how will you catch her heart. I know some readers will think what if I’m a girl? Will I get to know about a boy and will I be able to play a game not as Mark Blythe? The answer (as you’ve probably guessed it) is YES. There are both virtually an literally no limitations on how you will play this game. You can add or edit the default name to your own like.By the above chat samples and the embedded video you may now have guessed what type of game it is. It is categorized as a simulation game in the Google Play Store and it really simulates your senses when you will play it. See the following screenshot:Image credit: Google Play StoreThe interface is quite familiar and comparable to the Facebook Messenger. Let us not dig into that matter for now. You are now playing a simple chat-based game. The games’s software may or may not start a conversation with you. Next, you tap the space for your reply to that but, wait. There is no keyboard here! Well, this might seem quite awkward at first but when you apply those little grey cells (Ah, Poirot!) you will get to know that there is indeed no need for that! You are either choosing a reply from a list of three options, or you are just tapping here and there on the invisible keyboard. In the above screenshot you can see Jenny Cumberdale, your love interest’s friend, she wants you to answer some of her doubts regarding his crazy homework. Here, you are more like “Why should I help her?” “I must concentrate on my ongoing work now.” “Who is she?” So you make excuses as stated in the picture above. Well, everything does not end here. You can reply to Jenny more like a dear friend to her like “Okay, tell me what is it?” “Sure Jenny!” or even go to an extent to propose her! I know you love Nicole. Still, you are now crazy for Jenny because of her past experiences with you. Then you may end up being an enemy of Nicole. See, anything can happen here. The ending of this game may or may not be a good one. This is the type of game that we wanted for years! Didn’t we?A little bit moreNow, what’s more good in this game? Everyone loves bonus content. Yes, Polychroma heard you quick. Here are some of the stuff which you will love:There’s always a different outcome of every story you play.You be the author! Yes, you can submit your own content to the studio to stories@polychromagames.com or you can make your own story with the Story Maker feature.Play other Seen lover’s story and share you own story in the Story World section.The whole game’s interface is as cool as the Messenger. Sorry for the repeat but you can totally see the seen marker below each message!annie96 is typing…You can play around this wonderful game now on any Android device here. Go ahead, and make sure you fall in love again…you lonely fox!GamingGamesAndroid GamesGoogle Play StoreAloneOne clap, two clap, three clap, forty?By clapping more or less, you can signal to us which stories really stand out.Vaibhav KhulbeAndroid App Developer | I write forum posts on The Verge | ACM MemberWhat comes to mindStories with a zest of tech\r\n"
     ]
    }
   ],
   "source": [
    "!head -5 ./assignment-2-part2/data/train_content.txt"
   ]
  },
  {
   "cell_type": "code",
   "execution_count": 143,
   "metadata": {},
   "outputs": [
    {
     "name": "stdout",
     "output_type": "stream",
     "text": [
      "2012-08-13T22:54:53.510Z\r\n",
      "2015-08-03T07:44:50.331Z\r\n",
      "2017-02-05T13:08:17.410Z\r\n",
      "2017-05-06T08:16:30.776Z\r\n",
      "2017-06-04T14:46:25.772Z\r\n"
     ]
    }
   ],
   "source": [
    "!head -5 ./assignment-2-part2/data/train_published.txt"
   ]
  },
  {
   "cell_type": "code",
   "execution_count": 144,
   "metadata": {},
   "outputs": [
    {
     "name": "stdout",
     "output_type": "stream",
     "text": [
      "Medium Terms of Service – Medium Policy – Medium\r\n",
      "Amendment to Medium Terms of Service Applicable to U.S. Government Users\r\n",
      "走入山與海之間：閩東大刀會和兩岸走私 – Yun-Chen Chien（簡韻真） – Medium\r\n",
      "How fast can a camera get? – What comes to mind – Medium\r\n",
      "A game for the lonely fox – What comes to mind – Medium\r\n"
     ]
    }
   ],
   "source": [
    "!head -5 ./assignment-2-part2/data/train_title.txt"
   ]
  },
  {
   "cell_type": "code",
   "execution_count": 145,
   "metadata": {},
   "outputs": [
    {
     "name": "stdout",
     "output_type": "stream",
     "text": [
      "https://medium.com/@Medium\r\n",
      "https://medium.com/@Medium\r\n",
      "https://medium.com/@aelcenganda\r\n",
      "https://medium.com/@vaibhavkhulbe\r\n",
      "https://medium.com/@vaibhavkhulbe\r\n"
     ]
    }
   ],
   "source": [
    "!head -5 ./assignment-2-part2/data/train_author.txt"
   ]
  },
  {
   "cell_type": "code",
   "execution_count": 146,
   "metadata": {},
   "outputs": [
    {
     "name": "stdout",
     "output_type": "stream",
     "text": [
      "https://medium.com/@Medium\r\n",
      "https://medium.com/@Medium\r\n",
      "https://medium.com/@aelcenganda\r\n",
      "https://medium.com/@vaibhavkhulbe\r\n",
      "https://medium.com/@vaibhavkhulbe\r\n"
     ]
    }
   ],
   "source": [
    "!head -5 ./assignment-2-part2/data/train_author.txt"
   ]
  },
  {
   "cell_type": "code",
   "execution_count": null,
   "metadata": {},
   "outputs": [],
   "source": []
  },
  {
   "cell_type": "code",
   "execution_count": 147,
   "metadata": {},
   "outputs": [
    {
     "data": {
      "application/vnd.jupyter.widget-view+json": {
       "model_id": "837e84a1d1a7431382107bc736c5ad1d",
       "version_major": 2,
       "version_minor": 0
      },
      "text/plain": [
       "HBox(children=(IntProgress(value=1, bar_style='info', max=1), HTML(value='')))"
      ]
     },
     "metadata": {},
     "output_type": "display_data"
    }
   ],
   "source": [
    "extract_features_and_write(PATH_TO_DATA, 'test.json', is_train=False)"
   ]
  },
  {
   "cell_type": "markdown",
   "metadata": {},
   "source": [
    "**Add the following groups of features:**\n",
    "    - Tf-Idf with article content (ngram_range=(1, 2), max_features=100000 but you can try adding more)\n",
    "    - Tf-Idf with article titles (ngram_range=(1, 2), max_features=100000 but you can try adding more)\n",
    "    - Time features: publication hour, whether it's morning, day, night, whether it's a weekend\n",
    "    - Bag of authors (i.e. One-Hot-Encoded author names)"
   ]
  },
  {
   "cell_type": "code",
   "execution_count": null,
   "metadata": {},
   "outputs": [],
   "source": [
    "# You code here"
   ]
  },
  {
   "cell_type": "code",
   "execution_count": null,
   "metadata": {},
   "outputs": [],
   "source": []
  },
  {
   "cell_type": "code",
   "execution_count": 150,
   "metadata": {},
   "outputs": [],
   "source": [
    "author_df = pd.read_csv('./assignment-2-part2/data/train_author.txt', header=None, names=['author'])"
   ]
  },
  {
   "cell_type": "code",
   "execution_count": 151,
   "metadata": {
    "scrolled": true
   },
   "outputs": [
    {
     "data": {
      "text/html": [
       "<div>\n",
       "<style scoped>\n",
       "    .dataframe tbody tr th:only-of-type {\n",
       "        vertical-align: middle;\n",
       "    }\n",
       "\n",
       "    .dataframe tbody tr th {\n",
       "        vertical-align: top;\n",
       "    }\n",
       "\n",
       "    .dataframe thead th {\n",
       "        text-align: right;\n",
       "    }\n",
       "</style>\n",
       "<table border=\"1\" class=\"dataframe\">\n",
       "  <thead>\n",
       "    <tr style=\"text-align: right;\">\n",
       "      <th></th>\n",
       "      <th>author</th>\n",
       "    </tr>\n",
       "  </thead>\n",
       "  <tbody>\n",
       "    <tr>\n",
       "      <th>0</th>\n",
       "      <td>https://medium.com/@Medium</td>\n",
       "    </tr>\n",
       "    <tr>\n",
       "      <th>1</th>\n",
       "      <td>https://medium.com/@Medium</td>\n",
       "    </tr>\n",
       "    <tr>\n",
       "      <th>2</th>\n",
       "      <td>https://medium.com/@aelcenganda</td>\n",
       "    </tr>\n",
       "    <tr>\n",
       "      <th>3</th>\n",
       "      <td>https://medium.com/@vaibhavkhulbe</td>\n",
       "    </tr>\n",
       "    <tr>\n",
       "      <th>4</th>\n",
       "      <td>https://medium.com/@vaibhavkhulbe</td>\n",
       "    </tr>\n",
       "  </tbody>\n",
       "</table>\n",
       "</div>"
      ],
      "text/plain": [
       "                              author\n",
       "0         https://medium.com/@Medium\n",
       "1         https://medium.com/@Medium\n",
       "2    https://medium.com/@aelcenganda\n",
       "3  https://medium.com/@vaibhavkhulbe\n",
       "4  https://medium.com/@vaibhavkhulbe"
      ]
     },
     "execution_count": 151,
     "metadata": {},
     "output_type": "execute_result"
    }
   ],
   "source": [
    "author_df.head()"
   ]
  },
  {
   "cell_type": "code",
   "execution_count": null,
   "metadata": {},
   "outputs": [],
   "source": []
  },
  {
   "cell_type": "code",
   "execution_count": null,
   "metadata": {},
   "outputs": [],
   "source": []
  },
  {
   "cell_type": "code",
   "execution_count": null,
   "metadata": {},
   "outputs": [],
   "source": []
  },
  {
   "cell_type": "code",
   "execution_count": null,
   "metadata": {},
   "outputs": [],
   "source": []
  },
  {
   "cell_type": "code",
   "execution_count": null,
   "metadata": {},
   "outputs": [],
   "source": []
  },
  {
   "cell_type": "code",
   "execution_count": null,
   "metadata": {},
   "outputs": [],
   "source": []
  },
  {
   "cell_type": "markdown",
   "metadata": {},
   "source": [
    "**Join all sparse matrices.**"
   ]
  },
  {
   "cell_type": "code",
   "execution_count": null,
   "metadata": {},
   "outputs": [],
   "source": [
    "X_train_sparse = hstack([X_train_content_sparse, X_train_title_sparse,\n",
    "                         X_train_author_sparse, \n",
    "                         X_train_time_features_sparse]).tocsr()"
   ]
  },
  {
   "cell_type": "code",
   "execution_count": null,
   "metadata": {},
   "outputs": [],
   "source": [
    "X_test_sparse = hstack([X_test_content_sparse, X_test_title_sparse,\n",
    "                        X_test_author_sparse, \n",
    "                        X_test_time_features_sparse]).tocsr()"
   ]
  },
  {
   "cell_type": "markdown",
   "metadata": {},
   "source": [
    "**Read train target and split data for validation.**"
   ]
  },
  {
   "cell_type": "code",
   "execution_count": null,
   "metadata": {},
   "outputs": [],
   "source": [
    "train_target = pd.read_csv(os.path.join(PATH_TO_DATA, 'train_log1p_recommends.csv'), \n",
    "                           index_col='id')\n",
    "y_train = train_target['log_recommends'].values"
   ]
  },
  {
   "cell_type": "code",
   "execution_count": null,
   "metadata": {},
   "outputs": [],
   "source": [
    "train_part_size = int(0.7 * train_target.shape[0])\n",
    "X_train_part_sparse = X_train_sparse[:train_part_size, :]\n",
    "y_train_part = y_train[:train_part_size]\n",
    "X_valid_sparse =  X_train_sparse[train_part_size:, :]\n",
    "y_valid = y_train[train_part_size:]"
   ]
  },
  {
   "cell_type": "markdown",
   "metadata": {},
   "source": [
    "**Train a simple Ridge model and check MAE on the validation set.**"
   ]
  },
  {
   "cell_type": "code",
   "execution_count": null,
   "metadata": {},
   "outputs": [],
   "source": [
    "# You code here"
   ]
  },
  {
   "cell_type": "markdown",
   "metadata": {},
   "source": [
    "**Train the same Ridge with all available data, make predictions for the test set and form a submission file.**"
   ]
  },
  {
   "cell_type": "code",
   "execution_count": null,
   "metadata": {},
   "outputs": [],
   "source": [
    "# You code here"
   ]
  },
  {
   "cell_type": "code",
   "execution_count": null,
   "metadata": {},
   "outputs": [],
   "source": [
    "def write_submission_file(prediction, filename,\n",
    "                          path_to_sample=os.path.join(PATH_TO_DATA, \n",
    "                                                      'sample_submission.csv')):\n",
    "    submission = pd.read_csv(path_to_sample, index_col='id')\n",
    "    \n",
    "    submission['log_recommends'] = prediction\n",
    "    submission.to_csv(filename)"
   ]
  },
  {
   "cell_type": "code",
   "execution_count": null,
   "metadata": {},
   "outputs": [],
   "source": [
    "write_submission_file(ridge_test_pred, os.path.join(PATH_TO_DATA,\n",
    "                                                    'assignment2_medium_submission.csv'))"
   ]
  },
  {
   "cell_type": "markdown",
   "metadata": {},
   "source": [
    "**Now's the time for dirty Kaggle hacks. Form a submission file with all zeros. Make a submission. What do you get if you think about it? How is it going to help you with modifying your predictions?**"
   ]
  },
  {
   "cell_type": "code",
   "execution_count": null,
   "metadata": {},
   "outputs": [],
   "source": [
    "write_submission_file(np.zeros_like(ridge_test_pred), \n",
    "                      os.path.join(PATH_TO_DATA,\n",
    "                                   'medium_all_zeros_submission.csv'))"
   ]
  },
  {
   "cell_type": "markdown",
   "metadata": {},
   "source": [
    "**Modify predictions in an appropriate way (based on your all-zero submission) and make a new submission.**"
   ]
  },
  {
   "cell_type": "code",
   "execution_count": null,
   "metadata": {},
   "outputs": [],
   "source": [
    "ridge_test_pred_modif = ridge_test_pred # You code here"
   ]
  },
  {
   "cell_type": "code",
   "execution_count": null,
   "metadata": {},
   "outputs": [],
   "source": [
    "write_submission_file(ridge_test_pred_modif, \n",
    "                      os.path.join(PATH_TO_DATA,\n",
    "                                   'assignment2_medium_submission_with_hack.csv'))"
   ]
  },
  {
   "cell_type": "markdown",
   "metadata": {},
   "source": [
    "Some ideas for improvement:\n",
    "\n",
    "- Engineer good features, this is the key to success. Some simple features will be based on publication time, authors, content length and so on\n",
    "- You may not ignore HTML and extract some features from there\n",
    "- You'd better experiment with your validation scheme. You should see a correlation between your local improvements and LB score\n",
    "- Try TF-IDF, ngrams, Word2Vec and GloVe embeddings\n",
    "- Try various NLP techniques like stemming and lemmatization\n",
    "- Tune hyperparameters. In our example, we've left only 50k features and used C=1 as a regularization parameter, this can be changed\n",
    "- SGD and Vowpal Wabbit will learn much faster\n",
    "- Play around with blending and/or stacking. An intro is given in [this Kernel](https://www.kaggle.com/kashnitsky/ridge-and-lightgbm-simple-blending) by @yorko \n",
    "- In our course, we don't cover neural nets. But it's not obliged to use GRUs/LSTMs/whatever in this competition.\n",
    "\n",
    "Good luck!\n",
    "\n",
    "<img src='../../img/kaggle_shakeup.png' width=50%>"
   ]
  }
 ],
 "metadata": {
  "kernelspec": {
   "display_name": "Python 3",
   "language": "python",
   "name": "python3"
  },
  "language_info": {
   "codemirror_mode": {
    "name": "ipython",
    "version": 3
   },
   "file_extension": ".py",
   "mimetype": "text/x-python",
   "name": "python",
   "nbconvert_exporter": "python",
   "pygments_lexer": "ipython3",
   "version": "3.7.1"
  }
 },
 "nbformat": 4,
 "nbformat_minor": 2
}
